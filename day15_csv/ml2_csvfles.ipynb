{
 "cells": [
  {
   "cell_type": "code",
   "execution_count": null,
   "id": "5ce48a69-453d-465d-8800-69c6ed3cfd7b",
   "metadata": {},
   "outputs": [],
   "source": []
  }
 ],
 "metadata": {
  "kernelspec": {
   "display_name": "",
   "name": ""
  },
  "language_info": {
   "name": ""
  }
 },
 "nbformat": 4,
 "nbformat_minor": 5
}
