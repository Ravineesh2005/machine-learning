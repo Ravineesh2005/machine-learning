{
 "cells": [
  {
   "cell_type": "code",
   "execution_count": 4,
   "id": "cb9207a4-1fb2-4148-888d-9d3363ea3a2d",
   "metadata": {},
   "outputs": [],
   "source": [
    "import phik \n",
    "from ydata_profiling import ProfileReport\n"
   ]
  },
  {
   "cell_type": "code",
   "execution_count": 5,
   "id": "b229ed8e-ce6e-4ee1-ad0b-398d1da06192",
   "metadata": {},
   "outputs": [],
   "source": [
    "import pandas as pd \n",
    "df = pd.read_csv('train.csv')\n"
   ]
  },
  {
   "cell_type": "code",
   "execution_count": null,
   "id": "f78f63b4-1d94-4ce7-87a2-529aca18baea",
   "metadata": {},
   "outputs": [],
   "source": [
    "profile = ProfileReport(df)\n",
    "profile.to_file(\"rp.html\")"
   ]
  }
 ],
 "metadata": {
  "kernelspec": {
   "display_name": "Python [conda env:base] *",
   "language": "python",
   "name": "conda-base-py"
  },
  "language_info": {
   "codemirror_mode": {
    "name": "ipython",
    "version": 3
   },
   "file_extension": ".py",
   "mimetype": "text/x-python",
   "name": "python",
   "nbconvert_exporter": "python",
   "pygments_lexer": "ipython3",
   "version": "3.13.5"
  }
 },
 "nbformat": 4,
 "nbformat_minor": 5
}
